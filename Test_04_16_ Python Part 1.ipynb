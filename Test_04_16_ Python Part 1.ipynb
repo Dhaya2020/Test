{
 "cells": [
  {
   "cell_type": "code",
   "execution_count": 78,
   "id": "95e79bcc",
   "metadata": {
    "scrolled": true
   },
   "outputs": [],
   "source": [
    "import os\n"
   ]
  },
  {
   "cell_type": "markdown",
   "id": "1d615092",
   "metadata": {},
   "source": [
    "### 1. write a program (with function) which takes a sequence of numbers and check if all numbers are unique."
   ]
  },
  {
   "cell_type": "code",
   "execution_count": 82,
   "id": "a41ee226",
   "metadata": {},
   "outputs": [
    {
     "name": "stdout",
     "output_type": "stream",
     "text": [
      "4 4 5 6 7 8 9\n",
      "4 5 6 7 8 9\n"
     ]
    }
   ],
   "source": [
    "from collections import Counter\n",
    "def uniq(list1):\n",
    "    print(*Counter(list1))\n",
    "lst = list(map(int, input().split()))\n",
    "uniq(lst)\n"
   ]
  },
  {
   "cell_type": "markdown",
   "id": "6d42414c",
   "metadata": {},
   "source": [
    "### 2. Python program to find out the average of a set of integers\n",
    "a. Note: Don’t use the pre-defined functions like np.mean\n",
    "b. For ex: If input is 5, the output should be average of 1+2+3+4+5"
   ]
  },
  {
   "cell_type": "code",
   "execution_count": 46,
   "id": "5ef3be41",
   "metadata": {},
   "outputs": [
    {
     "name": "stdout",
     "output_type": "stream",
     "text": [
      "5.0\n"
     ]
    }
   ],
   "source": [
    "a = {3,4,5,6,7}\n",
    "\n",
    "average = sum(a) / len(a)\n",
    "print(average)"
   ]
  },
  {
   "cell_type": "markdown",
   "id": "cdf5332f",
   "metadata": {},
   "source": [
    "### 3.Python program to check whether the given integer is a multiple of both 5 and 7"
   ]
  },
  {
   "cell_type": "code",
   "execution_count": 49,
   "id": "98973570",
   "metadata": {},
   "outputs": [
    {
     "name": "stdout",
     "output_type": "stream",
     "text": [
      "Enter the value35\n",
      "Positive\n"
     ]
    }
   ],
   "source": [
    "num = int(input('Enter the value'))\n",
    "if num % 7 == 0 and  num % 5 == 0:\n",
    "    print('Positive')\n",
    "else:   \n",
    "    print('Negative')"
   ]
  },
  {
   "cell_type": "markdown",
   "id": "a07dc4f3",
   "metadata": {},
   "source": [
    "### 4.Python program to display the given integer in reverse manner\n",
    "a. Ex: input 852, output should be 258"
   ]
  },
  {
   "cell_type": "code",
   "execution_count": 50,
   "id": "6fdbf5b0",
   "metadata": {},
   "outputs": [
    {
     "name": "stdout",
     "output_type": "stream",
     "text": [
      "258\n"
     ]
    }
   ],
   "source": [
    "num = 852\n",
    "print(str(num)[::-1])"
   ]
  },
  {
   "cell_type": "markdown",
   "id": "0937433c",
   "metadata": {},
   "source": [
    "### 5.Create an inner function to calculate the addition in the following way\n",
    "a. Create an outer function that will accept two parameters, a and b\n",
    "b. Create an inner function inside an outer function that will calculate the addition of a and b\n",
    "c. At last, an outer function will add 5 into addition and return it"
   ]
  },
  {
   "cell_type": "code",
   "execution_count": 85,
   "id": "d2ce43c7",
   "metadata": {},
   "outputs": [
    {
     "name": "stdout",
     "output_type": "stream",
     "text": [
      "Enter the number A: 3\n",
      "Enter the number B: 4\n"
     ]
    },
    {
     "data": {
      "text/plain": [
       "12"
      ]
     },
     "execution_count": 85,
     "metadata": {},
     "output_type": "execute_result"
    }
   ],
   "source": [
    "def outer_fun(a,b):\n",
    "    a=a\n",
    "    b=b\n",
    "    #print(a,b)\n",
    "    def inner_fun(): \n",
    "        return a+b\n",
    "        #print(a+b)\n",
    "    output =inner()\n",
    "    return output+5\n",
    "    \n",
    "a= int(input(\"Enter the number A: \"))\n",
    "b= int(input(\"Enter the number B: \"))\n",
    "\n",
    "outer(a,b)"
   ]
  },
  {
   "cell_type": "markdown",
   "id": "e9dc6828",
   "metadata": {},
   "source": [
    "### 6.Python Program to Check Leap Year\n",
    "a. A leap year is exactly divisible by 4 except for century years (years ending with 00). The century year is a leap year only if it is perfectly divisible by 400\n",
    "b. For ex: 2017 is not a leap year, 1900 is a not leap year, 2012 is a leap year, 2000 is a leap year"
   ]
  },
  {
   "cell_type": "code",
   "execution_count": 77,
   "id": "97c5ad19",
   "metadata": {},
   "outputs": [
    {
     "name": "stdout",
     "output_type": "stream",
     "text": [
      "Enter a year: 2000\n",
      "2000 is a leap year\n"
     ]
    }
   ],
   "source": [
    "year = int(input(\"Enter a year: \"))\n",
    "if (year % 400 == 0) and (year % 100 == 0):\n",
    "    print(\"{0} is a leap year\".format(year))\n",
    "\n",
    "elif (year % 4 ==0) and (year % 100 != 0):\n",
    "    print(\"{0} is a leap year\".format(year))\n",
    "\n",
    "else:\n",
    "    print(\"{0} is not a leap year\".format(year))"
   ]
  },
  {
   "cell_type": "code",
   "execution_count": null,
   "id": "37abad45",
   "metadata": {},
   "outputs": [],
   "source": []
  },
  {
   "cell_type": "code",
   "execution_count": null,
   "id": "7384181b",
   "metadata": {},
   "outputs": [],
   "source": []
  },
  {
   "cell_type": "code",
   "execution_count": null,
   "id": "55124e1b",
   "metadata": {},
   "outputs": [],
   "source": []
  },
  {
   "cell_type": "code",
   "execution_count": null,
   "id": "83f3d9ae",
   "metadata": {},
   "outputs": [],
   "source": []
  },
  {
   "cell_type": "code",
   "execution_count": null,
   "id": "d1467d37",
   "metadata": {},
   "outputs": [],
   "source": []
  }
 ],
 "metadata": {
  "kernelspec": {
   "display_name": "Python 3 (ipykernel)",
   "language": "python",
   "name": "python3"
  },
  "language_info": {
   "codemirror_mode": {
    "name": "ipython",
    "version": 3
   },
   "file_extension": ".py",
   "mimetype": "text/x-python",
   "name": "python",
   "nbconvert_exporter": "python",
   "pygments_lexer": "ipython3",
   "version": "3.9.7"
  }
 },
 "nbformat": 4,
 "nbformat_minor": 5
}
